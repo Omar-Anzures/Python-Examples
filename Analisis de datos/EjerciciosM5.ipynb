{
 "cells": [
  {
   "cell_type": "markdown",
   "metadata": {},
   "source": [
    "1.-Crea un intervalo de tiempo con datos aleatorios que inicie el 2019-01-01, que termine el 2020-10-23 y que tenga como intervalo de separación cada 3 días."
   ]
  },
  {
   "cell_type": "code",
   "execution_count": 2,
   "metadata": {},
   "outputs": [],
   "source": [
    "import numpy as np \n",
    "import pandas as pd\n",
    "\n",
    "from datetime import date,datetime,timedelta"
   ]
  },
  {
   "cell_type": "code",
   "execution_count": 3,
   "metadata": {},
   "outputs": [],
   "source": [
    "indice = pd.date_range(start = '2019-01-01',end='2020-10-23',freq='3D')"
   ]
  },
  {
   "cell_type": "code",
   "execution_count": 9,
   "metadata": {},
   "outputs": [
    {
     "data": {
      "text/plain": [
       "2019-01-01    0.013432\n",
       "2019-01-04    0.156907\n",
       "2019-01-07   -0.159745\n",
       "2019-01-10   -0.941761\n",
       "2019-01-13    0.153754\n",
       "                ...   \n",
       "2020-10-10    0.487387\n",
       "2020-10-13   -0.630727\n",
       "2020-10-16    1.144317\n",
       "2020-10-19   -1.565819\n",
       "2020-10-22   -0.460008\n",
       "Freq: 3D, Length: 221, dtype: float64"
      ]
     },
     "execution_count": 9,
     "metadata": {},
     "output_type": "execute_result"
    }
   ],
   "source": [
    "data = pd.Series(np.random.randn(len(indice)),index=indice)\n",
    "data"
   ]
  },
  {
   "cell_type": "markdown",
   "metadata": {},
   "source": [
    "2.-Con el intervalo anterior, selecciona únicamente las fechas que sean de agosto de 2019."
   ]
  },
  {
   "cell_type": "code",
   "execution_count": 146,
   "metadata": {},
   "outputs": [
    {
     "data": {
      "text/plain": [
       "2019-08-02   -1.387357\n",
       "2019-08-05    0.192361\n",
       "2019-08-08   -0.760052\n",
       "2019-08-11    -0.81563\n",
       "2019-08-14    0.409344\n",
       "2019-08-17   -0.588328\n",
       "2019-08-20    0.372177\n",
       "2019-08-23   -0.568613\n",
       "2019-08-26    0.240287\n",
       "2019-08-29    0.268121\n",
       "dtype: object"
      ]
     },
     "execution_count": 146,
     "metadata": {},
     "output_type": "execute_result"
    }
   ],
   "source": [
    "data.filter(like='2019-08')\n",
    "\n"
   ]
  },
  {
   "cell_type": "markdown",
   "metadata": {},
   "source": [
    "3.-Crea una nueva variable en la que completes el intervalo de fechas de agosto de 2019 con el valor de 1 para los nuevos registros."
   ]
  },
  {
   "cell_type": "code",
   "execution_count": 148,
   "metadata": {},
   "outputs": [
    {
     "data": {
      "text/plain": [
       "2022-01-01   -1.567221\n",
       "2022-01-04   -1.694372\n",
       "2022-01-07    1.303987\n",
       "2022-01-10   -0.162779\n",
       "2022-01-13   -0.735573\n",
       "2022-01-16    0.001966\n",
       "2022-01-19    1.572842\n",
       "2022-01-22    0.416840\n",
       "2022-01-25   -2.135104\n",
       "2022-01-28   -0.157242\n",
       "2022-01-31   -0.339690\n",
       "Freq: 3D, dtype: float64"
      ]
     },
     "execution_count": 148,
     "metadata": {},
     "output_type": "execute_result"
    }
   ],
   "source": [
    "def ingresar_fechas(inicio,fin):\n",
    "    df = pd.DataFrame()\n",
    "    indice = pd.date_range(start = inicio,end=fin,freq='3D')\n",
    "    return  pd.Series(np.random.randn(len(indice)),index=indice)\n",
    "    \n",
    "ingresar_fechas('2022-01-01','2022-02-01')\n",
    "\n"
   ]
  },
  {
   "cell_type": "markdown",
   "metadata": {},
   "source": [
    "4.-Obtén la media de los valores de agosto de 2019."
   ]
  },
  {
   "cell_type": "code",
   "execution_count": 150,
   "metadata": {},
   "outputs": [
    {
     "data": {
      "text/plain": [
       "-0.26376904145227686"
      ]
     },
     "execution_count": 150,
     "metadata": {},
     "output_type": "execute_result"
    }
   ],
   "source": [
    "data.filter(like='2019-08').mean()"
   ]
  },
  {
   "cell_type": "markdown",
   "metadata": {},
   "source": [
    "5.-Crea una nueva variable en la que completes el intervalo de fechas de agosto de 2019 con el valor de la media para los nuevos registros y crea una gráfica con esta nueva variable"
   ]
  },
  {
   "cell_type": "code",
   "execution_count": 173,
   "metadata": {},
   "outputs": [
    {
     "data": {
      "text/plain": [
       "-0.26376904145227686"
      ]
     },
     "execution_count": 173,
     "metadata": {},
     "output_type": "execute_result"
    }
   ],
   "source": [
    "data.filter(like='2019-08',axis=0).mean()\n",
    "\n",
    "\n",
    "\n"
   ]
  }
 ],
 "metadata": {
  "kernelspec": {
   "display_name": "Python 3.10.5 64-bit",
   "language": "python",
   "name": "python3"
  },
  "language_info": {
   "codemirror_mode": {
    "name": "ipython",
    "version": 3
   },
   "file_extension": ".py",
   "mimetype": "text/x-python",
   "name": "python",
   "nbconvert_exporter": "python",
   "pygments_lexer": "ipython3",
   "version": "3.10.5"
  },
  "orig_nbformat": 4,
  "vscode": {
   "interpreter": {
    "hash": "dd9f87a29d2aa6978dd0bf5504b490cec73ae07d70e80488022efecbed51ab6b"
   }
  }
 },
 "nbformat": 4,
 "nbformat_minor": 2
}
