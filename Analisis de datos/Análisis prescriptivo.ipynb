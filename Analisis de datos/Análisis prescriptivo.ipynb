{
 "cells": [
  {
   "cell_type": "markdown",
   "metadata": {},
   "source": [
    "Analisis prescriptivo\n",
    "\n",
    "Existe un tipo de análisis que ayuda a las empresas a determinar el enfoque empresarial más adecuado para una situación determinada, es el análisis prescriptivo. Al implementarlo, podrás obtener la mejor solución para resolver los retos planteados. \n",
    "\n",
    "Mientras que el análisis descriptivo nos ayuda a descubrir ¿qué pasó? y el análisis predictivo nos sirve de guía para saber qué va a pasar, el análisis prescriptivo es el que nos ayuda a saber cómo optimizar."
   ]
  },
  {
   "cell_type": "markdown",
   "metadata": {},
   "source": [
    "¿Qué es el análisis prescriptivo?\n",
    "\n",
    "El análisis prescriptivo se enfoca en encontrar el mejor plan de acción en un escenario según los datos disponibles. Existe una relación tanto con el análisis descriptivo como con el predictivo, pero el enfoque está en la información procesable en lugar del monitoreo de datos.\n",
    "Además, este ámbito también permite a las compañías tomar decisiones basadas en la optimización del resultado de futuros eventos o riesgos y proporciona un modelo para estudiarlos.\n",
    "El análisis prescriptivo  es uno de los tipos de análisis de datos que recopila información de diversas fuentes tanto descriptivas como predictivas para sus modelos y los aplica al proceso de toma de decisiones. "
   ]
  },
  {
   "cell_type": "markdown",
   "metadata": {},
   "source": [
    "Recomendaciones para un análisis prescriptivo\n",
    "\n",
    "\n",
    "Recopila más datos:\n",
    "A menudo es más fácil decirlo que hacerlo. Pocas empresas tienen acceso a grandes cantidades de datos, además, generados por actividades externas. Rastrea cada transacción generada por aplicaciones de terceros y almacenala en una base de datos estructurada. \n",
    "\n",
    "Elige correctamente los criterios de clasificación:\n",
    "Considera criterios de clasificación más avanzados, como el volumen de ventas, el rendimiento de la inversión o el número de interacciones. Establece un proceso para la mejora continua de tus métodos de catalogación. Explora diferentes métricas, trata de identificar cómo se relacionan entre sí. Pregúntales y desafíalos a entender qué atributos te ayudan más.\n",
    "\n",
    "Evalúa todas tus perspectivas:\n",
    "Si tienes la capacidad de extraer un conjunto suficientemente grande, remuestrea tus datos. Puede que tengas una distribución diferente que no habías pensado antes. Tal replanteamiento es una parte integral de cualquier estrategia de análisis prescriptivo y también puede ayudarte en sus esfuerzos de reorientación.\n",
    "Si quieres procesar de manera continua nuevos datos para mejorar la precisión de los pronósticos y tomar mejores decisiones, el análisis prescriptivo es una buena opción..\n",
    "\n",
    "El enfoque prescriptivo analiza las decisiones potenciales, las interacciones entre ellas, las diversas influencias sobre ellas y el impacto general de todos estos factores sobre un resultado. \n",
    "\n",
    "\n"
   ]
  }
 ],
 "metadata": {
  "kernelspec": {
   "display_name": "Python 3.10.5 64-bit",
   "language": "python",
   "name": "python3"
  },
  "language_info": {
   "codemirror_mode": {
    "name": "ipython",
    "version": 3
   },
   "file_extension": ".py",
   "mimetype": "text/x-python",
   "name": "python",
   "nbconvert_exporter": "python",
   "pygments_lexer": "ipython3",
   "version": "3.10.5"
  },
  "orig_nbformat": 4,
  "vscode": {
   "interpreter": {
    "hash": "dd9f87a29d2aa6978dd0bf5504b490cec73ae07d70e80488022efecbed51ab6b"
   }
  }
 },
 "nbformat": 4,
 "nbformat_minor": 2
}
