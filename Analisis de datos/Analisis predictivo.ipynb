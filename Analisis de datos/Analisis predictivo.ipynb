{
 "cells": [
  {
   "cell_type": "markdown",
   "metadata": {},
   "source": [
    "Tema2.- Analisis predictivo"
   ]
  },
  {
   "cell_type": "markdown",
   "metadata": {},
   "source": [
    "Regresion lineal\n",
    "\n",
    "La regresión lineal (o Linear Regression en inglés), intentará calcular una linea recta que se ajuste todo lo posible a nuestro conjunto de observaciones."
   ]
  },
  {
   "cell_type": "code",
   "execution_count": null,
   "metadata": {},
   "outputs": [],
   "source": [
    "import numpy as np  \n",
    "from pylab import *\n",
    "from scipy import stats  "
   ]
  },
  {
   "cell_type": "code",
   "execution_count": null,
   "metadata": {},
   "outputs": [],
   "source": [
    "# Generamos datos \"aleatorios\"  \n",
    "altura = np.random.normal(170, 20, 1000)  \n",
    "peso = altura / 2.5 + np.random.normal(0, 1, 1000)\n",
    "# scatter(altura,peso) ## Si quisieramos mostrar los datos sin la función de ajuste"
   ]
  },
  {
   "cell_type": "code",
   "execution_count": null,
   "metadata": {},
   "outputs": [],
   "source": [
    "# Con esta función tan sencilla calculamos la regresión lineal  \n",
    "slope, intercept, r_value, p_value, std_err = stats.linregress(altura, peso)"
   ]
  },
  {
   "cell_type": "code",
   "execution_count": null,
   "metadata": {},
   "outputs": [],
   "source": [
    "# Ahora lo representamos pintando también la regresión lineal  \n",
    "# como una linea roja sobre las observaciones (en azul)  \n",
    "import matplotlib.pyplot as plt"
   ]
  },
  {
   "cell_type": "code",
   "execution_count": null,
   "metadata": {},
   "outputs": [],
   "source": [
    "def predict(x):  \n",
    "    return slope * x + intercept\n",
    "\n",
    "fitLine = predict(altura)\n",
    "\n",
    "plt.scatter(altura, peso)  \n",
    "plt.plot(altura, fitLine, c='r')  \n",
    "plt.show()  "
   ]
  },
  {
   "cell_type": "code",
   "execution_count": null,
   "metadata": {},
   "outputs": [],
   "source": [
    "from pylab import *  \n",
    "import numpy as np\n",
    "\n",
    "# creamos algunas muestras aleatorias, en las que el numero de ventas de productos  \n",
    "# se reduzca a medida que aumenta su precio  \n",
    "np.random.seed(2)  \n",
    "itemPrices = np.random.normal(3.0, 1.0, 1000)  \n",
    "purchaseAmount = np.random.normal(50.0, 10.0, 1000) / itemPrices\n",
    "\n",
    "# calculamos la curva polinomica de 4 grado que se ajusta a los datos  \n",
    "# usando la funcion polyfit  \n",
    "x = np.array(itemPrices)  \n",
    "y = np.array(purchaseAmount)\n",
    "\n",
    "p4 = np.poly1d(np.polyfit(x, y, 4))\n",
    "\n",
    "# pintamos la muestra y la funcion polinomica en rojo para ver como se ajusta  \n",
    "import matplotlib.pyplot as plt\n",
    "\n",
    "xp = np.linspace(0, 7, 100)  \n",
    "plt.scatter(x, y)  \n",
    "plt.plot(xp, p4(xp), c='r')  "
   ]
  },
  {
   "cell_type": "markdown",
   "metadata": {},
   "source": [
    "El análisis predictivo se clasifica en:\n",
    "\n",
    "    Modelos formalmente predictivos:\n",
    "    Esta categoría del análisis tiene como finalidad encontrar elementos de riesgo y nuevas oportunidades para hacer negocios, a partir del análisis de datos históricos. Especialmente, los que ocurren en tiempo real, mientras se realiza una operación. \n",
    "\n",
    "    Modelos descriptivos:\n",
    "    Estos modelos se encargan de cuantificar las relaciones entre los datos de una manera que a menudo se utiliza para clasificar a los clientes actuales o potenciales. \n",
    "    A diferencia de los modelos formalmente predictivos, se enfocan en predecir el comportamiento de un solo cliente e identificar su relación con los productos o servicios.\n",
    "\n",
    "    \n",
    "    Modelos de decisión\n",
    "    Esta categoría se encarga de describir la relación que existe entre los datos conocidos, la decisión y los resultados pronosticados para la toma de decisiones, con el propósito de predecir los resultados.\n",
    "    Generalmente, se utilizan para desarrollar una lógica de decisión o un conjunto de reglas de negocio que producirán la acción deseada para cada cliente o circunstancia. \n",
    "\n",
    "   <img src = https://www.questionpro.com/blog/wp-content/uploads/2018/11/Pasos-analisis-predictivo.jpg>\n"
   ]
  },
  {
   "cell_type": "markdown",
   "metadata": {},
   "source": [
    "1.-Definición del proyecto: Definir los resultados del proyecto, entregables, alcance del esfuerzo, objetivos de negocio, identificar los conjuntos de datos que se van a utilizar. \n",
    "\n",
    "2.-Recolección de datos: La minería de datos para el análisis predictivo se encarga de preparar los datos de múltiples fuentes. Esto es con el fin de proporcionar una visión completa de las interacciones con los clientes. \n",
    "\n",
    "3.-Análisis de datos: El análisis de datos es el proceso de inspección, limpieza y ajuste de datos con el objetivo de descubrir información útil y llegar a una conclusión. \n",
    "\n",
    "4.-Estadísticas: El análisis estadístico permite validar los supuestos, hipótesis y probarlas utilizando modelos estadísticos estándar.\n",
    "\n",
    "5.-Modelado: El modelado predictivo proporciona la capacidad de crear automáticamente modelos predictivos precisos sobre el futuro. También hay opciones para elegir la mejor solución con evaluación multimodal. \n",
    "\n",
    "6.-Despliegue: El despliegue de modelos predictivos proporciona la opción de desplegar los resultados analíticos en el proceso diario de toma de decisiones para obtener resultados, informes y resultados mediante la automatización de las decisiones basadas en el modelado. \n",
    "\n",
    "7.-Monitoreo de Modelos: Los modelos son administrados y monitoreados para revisar el desempeño del modelo y asegurar que esté proporcionando los resultados esperados."
   ]
  }
 ],
 "metadata": {
  "kernelspec": {
   "display_name": "Python 3.10.5 64-bit",
   "language": "python",
   "name": "python3"
  },
  "language_info": {
   "codemirror_mode": {
    "name": "ipython",
    "version": 3
   },
   "file_extension": ".py",
   "mimetype": "text/x-python",
   "name": "python",
   "nbconvert_exporter": "python",
   "pygments_lexer": "ipython3",
   "version": "3.10.5"
  },
  "orig_nbformat": 4,
  "vscode": {
   "interpreter": {
    "hash": "dd9f87a29d2aa6978dd0bf5504b490cec73ae07d70e80488022efecbed51ab6b"
   }
  }
 },
 "nbformat": 4,
 "nbformat_minor": 2
}
