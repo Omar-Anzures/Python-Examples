{
 "cells": [
  {
   "cell_type": "markdown",
   "metadata": {},
   "source": [
    "1.-Usando el archivo de la URL: https://raw.githubusercontent.com/selva86/datasets/master/Cars93_miss.csv, crea un DataFrame y reemplaza los valores faltantes de la columna “Min.Price” y “Max.Price” con sus respectivas medias."
   ]
  },
  {
   "cell_type": "code",
   "execution_count": null,
   "metadata": {},
   "outputs": [],
   "source": [
    "import pandas as pd \n",
    "import numpy as np"
   ]
  },
  {
   "cell_type": "code",
   "execution_count": null,
   "metadata": {},
   "outputs": [],
   "source": [
    "def Medias():\n",
    "    data = pd.read_csv(\"C:/Users/ovsantiago/Desktop/py/datasets/miss.csv\")\n",
    "    datos = pd.DataFrame(data)\n",
    "    a=datos.fillna(datos.groupby([\"MaxPrice\",\"MinPrice\"],as_index=False).mean())\n",
    "    a.to_csv(\"C:/Users/ovsantiago/Desktop/py/datasets/miss.csv\")\n",
    "\n",
    "Medias()"
   ]
  },
  {
   "cell_type": "markdown",
   "metadata": {},
   "source": [
    "3.-Usando el siguiente DataFrame, calcula el precio promedio de cada fruta mientras se mantienen a las frutas como otra columna en lugar de que sea un índice."
   ]
  },
  {
   "cell_type": "code",
   "execution_count": null,
   "metadata": {},
   "outputs": [],
   "source": [
    "def Frutas (data):\n",
    "    promedio = data.groupby(data['fruta']).precio.mean()\n",
    "    return promedio\n",
    "\n",
    "data = pd.DataFrame({'fruta': ['manzana', 'banana', 'naranja'] * 3, 'rating': np.random.rand(9), 'precio': np.random.randint(0, 15, 9)})\n",
    "Frutas(data)"
   ]
  },
  {
   "cell_type": "markdown",
   "metadata": {},
   "source": [
    "4.-Usando el siguiente objeto Series, calcula la desviación estándar (nivel población) de dichos datos pero omite los valores NaN. Pista: Necesitarás un nuevo parámetro llamado “skipna”."
   ]
  },
  {
   "cell_type": "code",
   "execution_count": null,
   "metadata": {},
   "outputs": [],
   "source": [
    "def Desviacion(serie):\n",
    "    return serie.var(ddof=0,skipna=True)\n",
    "\n",
    "serie = pd.Series([19.5, 16.8, None, 22.78, None, 20.124, None, 18.1002, None])\n",
    "Desviacion(serie)"
   ]
  },
  {
   "cell_type": "markdown",
   "metadata": {},
   "source": [
    "5.-Usando el siguiente DataFrame, normaliza todos sus datos. La operación de normalización se realiza en todas las columnas restando la media de la columna y dividiendo entre la desviación estándar."
   ]
  },
  {
   "cell_type": "code",
   "execution_count": null,
   "metadata": {},
   "outputs": [],
   "source": [
    "def normalizacion(data):\n",
    "    return (data-data.mean())/data.std()\n",
    " # data.apply(lambda x: (x-x.mean())/x.std())  \n",
    "data = pd.DataFrame(np.random.randint(1,100, 80).reshape(8, -1))\n",
    "normalizacion(data)"
   ]
  }
 ],
 "metadata": {
  "kernelspec": {
   "display_name": "Python 3.10.5 64-bit",
   "language": "python",
   "name": "python3"
  },
  "language_info": {
   "codemirror_mode": {
    "name": "ipython",
    "version": 3
   },
   "file_extension": ".py",
   "mimetype": "text/x-python",
   "name": "python",
   "nbconvert_exporter": "python",
   "pygments_lexer": "ipython3",
   "version": "3.10.5"
  },
  "orig_nbformat": 4,
  "vscode": {
   "interpreter": {
    "hash": "dd9f87a29d2aa6978dd0bf5504b490cec73ae07d70e80488022efecbed51ab6b"
   }
  }
 },
 "nbformat": 4,
 "nbformat_minor": 2
}
