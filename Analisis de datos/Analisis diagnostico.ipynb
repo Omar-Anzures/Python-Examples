{
 "cells": [
  {
   "cell_type": "markdown",
   "metadata": {},
   "source": [
    "Tema2.- Analisis de diagnostico"
   ]
  },
  {
   "cell_type": "markdown",
   "metadata": {},
   "source": [
    "Analisis prescriptivo\n",
    "\n",
    "Con el análisis prescriptivo intentamos cambiar el futuro. Es decir, vamos a usar Inteligencia Artificial para descubrir qué tenemos que hacer para obtener los resultados que queremos,tiene como objetivo encontrar la mejor solución en función de una variedad de opciones. \n",
    "El análisis prescriptivo  es uno de los tipos de análisis de datos que recopila información de diversas fuentes tanto descriptivas como predictivas para sus modelos y los aplica al proceso de toma de decisiones. \n",
    "\n",
    "<img src=\"https://external-content.duckduckgo.com/iu/?u=https%3A%2F%2Ffiles.speakerdeck.com%2Fpresentations%2F738e30eb091d4f6093ac3859df383c69%2Fslide_15.jpg&f=1&nofb=1\">"
   ]
  },
  {
   "cell_type": "markdown",
   "metadata": {},
   "source": [
    "Correlacion\n",
    "\n",
    "La correlación se refiere a algunas relaciones estadísticas que implican dependencia entre dos conjuntos de datos. Ejemplos simples de fenómenos dependientes incluyen la correlación entre la apariencia física de los padres y su descendencia, y la correlación entre el precio de un producto y la cantidad ofrecida.\n",
    "\n",
    "Tomamos un ejemplo del conjunto de datos de iris disponible en la biblioteca de python de seaborn. En él intentamos establecer la correlación entre el largo y el ancho de los sépalos y pétalos de tres especies de flor de iris. Con base en la correlación encontrada, podría crearse un modelo sólido que distinga fácilmente una especie de otra.\n",
    "\n",
    "<img src = \" https://translate.google.com/website?sl=auto&tl=es&hl=es&u=https://files.realpython.com/media/py-corr-1.d13ed60a9b91.png\">"
   ]
  },
  {
   "cell_type": "markdown",
   "metadata": {},
   "source": [
    "Cada uno de estos gráficos muestra una de tres formas diferentes de correlación:\n",
    "\n",
    "    --> Correlación negativa (puntos rojos): en el gráfico de la izquierda, los valores de y tienden a disminuir a medida que aumentan los valores de x. Esto muestra una fuerte correlación negativa, que ocurre cuando valores grandes de una característica corresponden a valores pequeños de la otra, y viceversa.\n",
    "\n",
    "    --> Débil o sin correlación (puntos verdes): la gráfica del medio no muestra una tendencia obvia. Esta es una forma de correlación débil, que ocurre cuando una asociación entre dos características no es obvia o es difícilmente observable.\n",
    "\n",
    "    --> Correlación positiva (puntos azules): en el gráfico de la derecha, los valores de y tienden a aumentar a medida que aumentan los valores de x. Esto ilustra una fuerte correlación positiva, que ocurre cuando valores grandes de una característica corresponden a valores grandes de la otra, y viceversa.\n"
   ]
  },
  {
   "cell_type": "markdown",
   "metadata": {},
   "source": [
    "Existen 3 tipos de correlación de Pearson, Spearman y Kendall:\n",
    "\n",
    "El coeficiente de Pearson mide la correlación lineal , mientras que los coeficientes de Spearman y Kendall comparan los rangos de los datos. Hay varias funciones y métodos de correlación de NumPy, SciPy y Pandas que puede usar para calcular estos coeficientes. También puede usar Matplotlib para ilustrar convenientemente los resultados.\n",
    "\n",
    "NOTA: Cuando la correlacion esta muy cerca 1 o -1 la relacion de los datos es casi perfecta o si son =1 o -1 la correlacion es perfecta, entre mas se acerquen al 0 mas devil sera la relacion de los datos."
   ]
  },
  {
   "cell_type": "code",
   "execution_count": 1,
   "metadata": {},
   "outputs": [],
   "source": [
    "import pandas as pd "
   ]
  },
  {
   "cell_type": "code",
   "execution_count": 3,
   "metadata": {},
   "outputs": [],
   "source": [
    "data = pd.read_csv(\"C:/Users/ovsantiago/Desktop/py/datasets/nba.csv\")"
   ]
  },
  {
   "cell_type": "code",
   "execution_count": 4,
   "metadata": {},
   "outputs": [
    {
     "data": {
      "text/html": [
       "<div>\n",
       "<style scoped>\n",
       "    .dataframe tbody tr th:only-of-type {\n",
       "        vertical-align: middle;\n",
       "    }\n",
       "\n",
       "    .dataframe tbody tr th {\n",
       "        vertical-align: top;\n",
       "    }\n",
       "\n",
       "    .dataframe thead th {\n",
       "        text-align: right;\n",
       "    }\n",
       "</style>\n",
       "<table border=\"1\" class=\"dataframe\">\n",
       "  <thead>\n",
       "    <tr style=\"text-align: right;\">\n",
       "      <th></th>\n",
       "      <th>Number</th>\n",
       "      <th>Age</th>\n",
       "      <th>Weight</th>\n",
       "      <th>Salary</th>\n",
       "    </tr>\n",
       "  </thead>\n",
       "  <tbody>\n",
       "    <tr>\n",
       "      <th>Number</th>\n",
       "      <td>1.000000</td>\n",
       "      <td>0.028724</td>\n",
       "      <td>0.206921</td>\n",
       "      <td>-0.112386</td>\n",
       "    </tr>\n",
       "    <tr>\n",
       "      <th>Age</th>\n",
       "      <td>0.028724</td>\n",
       "      <td>1.000000</td>\n",
       "      <td>0.087183</td>\n",
       "      <td>0.213459</td>\n",
       "    </tr>\n",
       "    <tr>\n",
       "      <th>Weight</th>\n",
       "      <td>0.206921</td>\n",
       "      <td>0.087183</td>\n",
       "      <td>1.000000</td>\n",
       "      <td>0.138321</td>\n",
       "    </tr>\n",
       "    <tr>\n",
       "      <th>Salary</th>\n",
       "      <td>-0.112386</td>\n",
       "      <td>0.213459</td>\n",
       "      <td>0.138321</td>\n",
       "      <td>1.000000</td>\n",
       "    </tr>\n",
       "  </tbody>\n",
       "</table>\n",
       "</div>"
      ],
      "text/plain": [
       "          Number       Age    Weight    Salary\n",
       "Number  1.000000  0.028724  0.206921 -0.112386\n",
       "Age     0.028724  1.000000  0.087183  0.213459\n",
       "Weight  0.206921  0.087183  1.000000  0.138321\n",
       "Salary -0.112386  0.213459  0.138321  1.000000"
      ]
     },
     "execution_count": 4,
     "metadata": {},
     "output_type": "execute_result"
    }
   ],
   "source": [
    "#Correlacion de Pearson: Se usa para cuantificar tendencias lineales\n",
    "data.corr(method = \"pearson\")"
   ]
  },
  {
   "cell_type": "code",
   "execution_count": 5,
   "metadata": {},
   "outputs": [
    {
     "data": {
      "text/html": [
       "<div>\n",
       "<style scoped>\n",
       "    .dataframe tbody tr th:only-of-type {\n",
       "        vertical-align: middle;\n",
       "    }\n",
       "\n",
       "    .dataframe tbody tr th {\n",
       "        vertical-align: top;\n",
       "    }\n",
       "\n",
       "    .dataframe thead th {\n",
       "        text-align: right;\n",
       "    }\n",
       "</style>\n",
       "<table border=\"1\" class=\"dataframe\">\n",
       "  <thead>\n",
       "    <tr style=\"text-align: right;\">\n",
       "      <th></th>\n",
       "      <th>Number</th>\n",
       "      <th>Age</th>\n",
       "      <th>Weight</th>\n",
       "      <th>Salary</th>\n",
       "    </tr>\n",
       "  </thead>\n",
       "  <tbody>\n",
       "    <tr>\n",
       "      <th>Number</th>\n",
       "      <td>1.000000</td>\n",
       "      <td>0.008490</td>\n",
       "      <td>0.226084</td>\n",
       "      <td>-0.114683</td>\n",
       "    </tr>\n",
       "    <tr>\n",
       "      <th>Age</th>\n",
       "      <td>0.008490</td>\n",
       "      <td>1.000000</td>\n",
       "      <td>0.096163</td>\n",
       "      <td>0.266299</td>\n",
       "    </tr>\n",
       "    <tr>\n",
       "      <th>Weight</th>\n",
       "      <td>0.226084</td>\n",
       "      <td>0.096163</td>\n",
       "      <td>1.000000</td>\n",
       "      <td>0.127628</td>\n",
       "    </tr>\n",
       "    <tr>\n",
       "      <th>Salary</th>\n",
       "      <td>-0.114683</td>\n",
       "      <td>0.266299</td>\n",
       "      <td>0.127628</td>\n",
       "      <td>1.000000</td>\n",
       "    </tr>\n",
       "  </tbody>\n",
       "</table>\n",
       "</div>"
      ],
      "text/plain": [
       "          Number       Age    Weight    Salary\n",
       "Number  1.000000  0.008490  0.226084 -0.114683\n",
       "Age     0.008490  1.000000  0.096163  0.266299\n",
       "Weight  0.226084  0.096163  1.000000  0.127628\n",
       "Salary -0.114683  0.266299  0.127628  1.000000"
      ]
     },
     "execution_count": 5,
     "metadata": {},
     "output_type": "execute_result"
    }
   ],
   "source": [
    "#Correlacion de Spearman: Se usa para cuantificar tendencias aumento o disminucion\n",
    "data.corr(method = \"spearman\")\n"
   ]
  },
  {
   "cell_type": "code",
   "execution_count": 6,
   "metadata": {},
   "outputs": [
    {
     "data": {
      "text/html": [
       "<div>\n",
       "<style scoped>\n",
       "    .dataframe tbody tr th:only-of-type {\n",
       "        vertical-align: middle;\n",
       "    }\n",
       "\n",
       "    .dataframe tbody tr th {\n",
       "        vertical-align: top;\n",
       "    }\n",
       "\n",
       "    .dataframe thead th {\n",
       "        text-align: right;\n",
       "    }\n",
       "</style>\n",
       "<table border=\"1\" class=\"dataframe\">\n",
       "  <thead>\n",
       "    <tr style=\"text-align: right;\">\n",
       "      <th></th>\n",
       "      <th>Number</th>\n",
       "      <th>Age</th>\n",
       "      <th>Weight</th>\n",
       "      <th>Salary</th>\n",
       "    </tr>\n",
       "  </thead>\n",
       "  <tbody>\n",
       "    <tr>\n",
       "      <th>Number</th>\n",
       "      <td>1.000000</td>\n",
       "      <td>0.005536</td>\n",
       "      <td>0.155850</td>\n",
       "      <td>-0.075301</td>\n",
       "    </tr>\n",
       "    <tr>\n",
       "      <th>Age</th>\n",
       "      <td>0.005536</td>\n",
       "      <td>1.000000</td>\n",
       "      <td>0.066130</td>\n",
       "      <td>0.172616</td>\n",
       "    </tr>\n",
       "    <tr>\n",
       "      <th>Weight</th>\n",
       "      <td>0.155850</td>\n",
       "      <td>0.066130</td>\n",
       "      <td>1.000000</td>\n",
       "      <td>0.087165</td>\n",
       "    </tr>\n",
       "    <tr>\n",
       "      <th>Salary</th>\n",
       "      <td>-0.075301</td>\n",
       "      <td>0.172616</td>\n",
       "      <td>0.087165</td>\n",
       "      <td>1.000000</td>\n",
       "    </tr>\n",
       "  </tbody>\n",
       "</table>\n",
       "</div>"
      ],
      "text/plain": [
       "          Number       Age    Weight    Salary\n",
       "Number  1.000000  0.005536  0.155850 -0.075301\n",
       "Age     0.005536  1.000000  0.066130  0.172616\n",
       "Weight  0.155850  0.066130  1.000000  0.087165\n",
       "Salary -0.075301  0.172616  0.087165  1.000000"
      ]
     },
     "execution_count": 6,
     "metadata": {},
     "output_type": "execute_result"
    }
   ],
   "source": [
    "#Correlacion de Kendall:\n",
    "data.corr(method = \"kendall\")"
   ]
  },
  {
   "cell_type": "markdown",
   "metadata": {},
   "source": [
    "Tambien se puede hacer de las siguientes manera:"
   ]
  },
  {
   "cell_type": "code",
   "execution_count": 1,
   "metadata": {},
   "outputs": [],
   "source": [
    "#Ejemplo: cálculo de correlación NumPy\n",
    "\n",
    "import numpy as np"
   ]
  },
  {
   "cell_type": "code",
   "execution_count": 27,
   "metadata": {},
   "outputs": [],
   "source": [
    "x = np.arange(10, 20)\n",
    "y = np.array([2, 1, 4, 5, 8, 12, 18, 25, 96, 48])"
   ]
  },
  {
   "cell_type": "code",
   "execution_count": 30,
   "metadata": {},
   "outputs": [],
   "source": [
    "r = np.corrcoef(x, y)"
   ]
  },
  {
   "cell_type": "markdown",
   "metadata": {},
   "source": [
    "Esta figura muestra los puntos de datos y los coeficientes de correlación para el ejemplo anterior:\n",
    "<img src = \"https://translate.google.com/website?sl=auto&tl=es&hl=es&u=https://files.realpython.com/media/py-corr-5.2ee03a029ffe.png\">\n",
    "\n",
    "Los cuadrados rojos son los puntos de datos. Como puede ver, la figura también muestra los valores de los tres coeficientes de correlación."
   ]
  },
  {
   "cell_type": "code",
   "execution_count": 31,
   "metadata": {},
   "outputs": [],
   "source": [
    "\"\"\"Ejemplo: cálculo de correlación de SciPy\n",
    "   SciPy también tiene muchas rutinas de estadísticas contenidas en scipy.stats. Puede usar los siguientes métodos para calcular los tres coeficientes de correlación que vio anteriormente:\n",
    "     -->   pearsonr()\n",
    "      -->  spearmanr()\n",
    "       --> kendalltau()\"\"\"\n",
    "       \n",
    "import numpy as np\n",
    "import scipy.stats"
   ]
  },
  {
   "cell_type": "code",
   "execution_count": 32,
   "metadata": {},
   "outputs": [],
   "source": [
    "x = np.arange(10, 20)\n",
    "y = np.array([2, 1, 4, 5, 8, 12, 18, 25, 96, 48])"
   ]
  },
  {
   "cell_type": "code",
   "execution_count": 33,
   "metadata": {},
   "outputs": [
    {
     "data": {
      "text/plain": [
       "(0.758640289091187, 0.010964341301680813)"
      ]
     },
     "execution_count": 33,
     "metadata": {},
     "output_type": "execute_result"
    }
   ],
   "source": [
    "scipy.stats.pearsonr(x, y) "
   ]
  },
  {
   "cell_type": "code",
   "execution_count": 34,
   "metadata": {},
   "outputs": [
    {
     "data": {
      "text/plain": [
       "SpearmanrResult(correlation=0.9757575757575757, pvalue=1.4675461874042197e-06)"
      ]
     },
     "execution_count": 34,
     "metadata": {},
     "output_type": "execute_result"
    }
   ],
   "source": [
    "scipy.stats.spearmanr(x, y) "
   ]
  },
  {
   "cell_type": "code",
   "execution_count": 35,
   "metadata": {},
   "outputs": [
    {
     "data": {
      "text/plain": [
       "KendalltauResult(correlation=0.911111111111111, pvalue=2.9761904761904762e-05)"
      ]
     },
     "execution_count": 35,
     "metadata": {},
     "output_type": "execute_result"
    }
   ],
   "source": [
    "scipy.stats.kendalltau(x, y)"
   ]
  },
  {
   "cell_type": "markdown",
   "metadata": {},
   "source": [
    "Tenga en cuenta que estas funciones devuelven objetos que contienen dos valores:\n",
    "\n",
    "    El coeficiente de correlación\n",
    "    El valor p\n"
   ]
  },
  {
   "cell_type": "code",
   "execution_count": 36,
   "metadata": {},
   "outputs": [
    {
     "data": {
      "text/plain": [
       "0.758640289091187"
      ]
     },
     "execution_count": 36,
     "metadata": {},
     "output_type": "execute_result"
    }
   ],
   "source": [
    "#Puede extraer los valores p y los coeficientes de correlación con sus índices\n",
    "# como elementos de tuplas :\n",
    "\n",
    "scipy.stats.pearsonr(x, y)[0]    # Pearson's r"
   ]
  },
  {
   "cell_type": "code",
   "execution_count": 37,
   "metadata": {},
   "outputs": [
    {
     "data": {
      "text/plain": [
       "0.9757575757575757"
      ]
     },
     "execution_count": 37,
     "metadata": {},
     "output_type": "execute_result"
    }
   ],
   "source": [
    "scipy.stats.spearmanr(x, y)[0]   # Spearman's rho"
   ]
  },
  {
   "cell_type": "code",
   "execution_count": 38,
   "metadata": {},
   "outputs": [
    {
     "data": {
      "text/plain": [
       "0.911111111111111"
      ]
     },
     "execution_count": 38,
     "metadata": {},
     "output_type": "execute_result"
    }
   ],
   "source": [
    "scipy.stats.kendalltau(x, y)[0]  # Kendall's tau"
   ]
  }
 ],
 "metadata": {
  "kernelspec": {
   "display_name": "Python 3.10.5 64-bit",
   "language": "python",
   "name": "python3"
  },
  "language_info": {
   "codemirror_mode": {
    "name": "ipython",
    "version": 3
   },
   "file_extension": ".py",
   "mimetype": "text/x-python",
   "name": "python",
   "nbconvert_exporter": "python",
   "pygments_lexer": "ipython3",
   "version": "3.10.5"
  },
  "orig_nbformat": 4,
  "vscode": {
   "interpreter": {
    "hash": "dd9f87a29d2aa6978dd0bf5504b490cec73ae07d70e80488022efecbed51ab6b"
   }
  }
 },
 "nbformat": 4,
 "nbformat_minor": 2
}
