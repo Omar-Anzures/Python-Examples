{
 "cells": [
  {
   "cell_type": "markdown",
   "metadata": {},
   "source": [
    "Cualquiere medida en un intervalo es una serie de tiempo, las series de tiempo pueden tomar varias formas como:\n",
    "\n",
    "Timestamps\n",
    "Periodos fijos\n",
    "Intervalos\n",
    "Tiempo transcurrido\n",
    "\n",
    "Python ofrece la libreria datetime para las fechas\n",
    "\n",
    "date  ---  2022-08-22\n",
    "datetime --- 2022-08-22 11:23:14.236\n",
    "timedelta --- timedelta(days=5)"
   ]
  },
  {
   "cell_type": "code",
   "execution_count": 2,
   "metadata": {},
   "outputs": [],
   "source": [
    "#se importa la libreria correspondiente\n",
    "from datetime import date,datetime,timedelta\n",
    "\n",
    "import pandas as pd\n",
    "import numpy as np"
   ]
  },
  {
   "cell_type": "code",
   "execution_count": null,
   "metadata": {},
   "outputs": [],
   "source": [
    "#imprime fecha actual con minutos,segundos y microsegundos\n",
    "datetime.now()"
   ]
  },
  {
   "cell_type": "code",
   "execution_count": null,
   "metadata": {},
   "outputs": [],
   "source": [
    "#imprime solo la fecha actual sin minutos ni segundos \n",
    "date.today()"
   ]
  },
  {
   "cell_type": "code",
   "execution_count": null,
   "metadata": {},
   "outputs": [],
   "source": [
    "\"\"\"se crea un objeto como podemos ver se pasan\n",
    "   los parametros de dia y segundos, esto podemos \n",
    "   ocuparlo para calcular un tipo de fecha \"\"\" \n",
    "timedelta(days=84,seconds=10)"
   ]
  },
  {
   "cell_type": "code",
   "execution_count": null,
   "metadata": {},
   "outputs": [],
   "source": [
    "#Ejemplo:\n",
    "#como se puede observar puedo restar  a la fecha actual los dias que se estan pasando\n",
    "#junto con los segundos\n",
    "datetime.now() - timedelta(days=84,seconds=10)"
   ]
  },
  {
   "cell_type": "code",
   "execution_count": null,
   "metadata": {},
   "outputs": [],
   "source": [
    "#cambiar un tipo string por datetime\n",
    "fecha = '2020-10-20'\n",
    "#INDICAMOS COMO ESTA ACOMODADA LA FECHA DE STRING\n",
    "datetime.strptime(fecha,'%Y-%m-%d')"
   ]
  },
  {
   "cell_type": "code",
   "execution_count": null,
   "metadata": {},
   "outputs": [],
   "source": [
    "#cambiar de date a string\n",
    "\n",
    "ahora = datetime.now()\n",
    "str(ahora)"
   ]
  },
  {
   "cell_type": "code",
   "execution_count": null,
   "metadata": {},
   "outputs": [],
   "source": [
    "#si queremos que nuestra fecha tenga una salida diferente me refiero a como este acomodada\n",
    "#seria de la siguiente manera:\n",
    "#Aqui podemos acomodar la fecha como queramos:\n",
    "ahora.strftime('%d/%m/%Y %H:%M:%S')"
   ]
  },
  {
   "cell_type": "markdown",
   "metadata": {},
   "source": [
    "======================================================================="
   ]
  },
  {
   "cell_type": "code",
   "execution_count": 3,
   "metadata": {},
   "outputs": [],
   "source": [
    "#se crea las fechas de ejemplo\n",
    "dates = [datetime(2022,10,21),datetime(2022,10,22),datetime(2022,10,23)]\n",
    "#se crea los valores que le quedemos dar a esas fechas con random\n",
    "s = pd.Series(np.random.randn(3),index=dates)"
   ]
  },
  {
   "cell_type": "code",
   "execution_count": null,
   "metadata": {},
   "outputs": [],
   "source": [
    "#ingresar a una fecha especifica\n",
    "s['20221022']"
   ]
  },
  {
   "cell_type": "code",
   "execution_count": null,
   "metadata": {},
   "outputs": [],
   "source": [
    "#un tipo filtrado\n",
    "s['20221022':'20221023']"
   ]
  },
  {
   "cell_type": "code",
   "execution_count": null,
   "metadata": {},
   "outputs": [],
   "source": [
    "#agrupar por index(fecha)\n",
    "agrupado = s.groupby(level=0)"
   ]
  },
  {
   "cell_type": "code",
   "execution_count": null,
   "metadata": {},
   "outputs": [],
   "source": [
    "#con esto podemos sumar los datos agrupados\n",
    "agrupado.sum()"
   ]
  },
  {
   "cell_type": "code",
   "execution_count": null,
   "metadata": {},
   "outputs": [],
   "source": [
    "#sacar la media\n",
    "agrupado.mean()"
   ]
  },
  {
   "cell_type": "code",
   "execution_count": null,
   "metadata": {},
   "outputs": [],
   "source": [
    "#una forma mas correcta seria de la siguiente manera\n",
    "\n",
    "#muestra los dias de la fecha que pusiste hasta en la que quieres que termine\n",
    "pd.date_range(start='20220101',end='20220804')"
   ]
  },
  {
   "cell_type": "code",
   "execution_count": null,
   "metadata": {},
   "outputs": [],
   "source": [
    "#se muestra por periodos\n",
    "pd.date_range(start='20220101',end='20220804',periods=12)"
   ]
  },
  {
   "cell_type": "code",
   "execution_count": null,
   "metadata": {},
   "outputs": [],
   "source": [
    "#se muestra por frecuencia en este ejemplo cada dos dias\n",
    "#puede ser x dia,año,mes,hora\n",
    "pd.date_range(start='20220101',end='20220804',freq='2D')"
   ]
  },
  {
   "cell_type": "markdown",
   "metadata": {},
   "source": [
    "===ZONAS HORARIAS==="
   ]
  },
  {
   "cell_type": "code",
   "execution_count": 4,
   "metadata": {},
   "outputs": [
    {
     "name": "stdout",
     "output_type": "stream",
     "text": [
      "None\n"
     ]
    }
   ],
   "source": [
    "#comprobacion si tiene almacenado alguna zona horaria en tz\n",
    "print(s.index.tz)"
   ]
  },
  {
   "cell_type": "code",
   "execution_count": 7,
   "metadata": {},
   "outputs": [],
   "source": [
    "#almacenar zona horaria\n",
    "indice = pd.date_range(start='2022-01-01 11:00:00',end='2022-03-01 11:00:00',freq='2D',tz='America/Cancun')"
   ]
  },
  {
   "cell_type": "code",
   "execution_count": 9,
   "metadata": {},
   "outputs": [
    {
     "data": {
      "text/plain": [
       "2022-01-01 11:00:00-05:00    0.092347\n",
       "2022-01-03 11:00:00-05:00    1.050000\n",
       "2022-01-05 11:00:00-05:00   -0.888262\n",
       "2022-01-07 11:00:00-05:00    0.029309\n",
       "2022-01-09 11:00:00-05:00    0.015275\n",
       "2022-01-11 11:00:00-05:00   -0.456607\n",
       "2022-01-13 11:00:00-05:00   -0.186722\n",
       "2022-01-15 11:00:00-05:00   -1.577506\n",
       "2022-01-17 11:00:00-05:00    1.807526\n",
       "2022-01-19 11:00:00-05:00    0.688111\n",
       "2022-01-21 11:00:00-05:00   -0.242223\n",
       "2022-01-23 11:00:00-05:00    0.406562\n",
       "2022-01-25 11:00:00-05:00    0.271332\n",
       "2022-01-27 11:00:00-05:00   -0.563948\n",
       "2022-01-29 11:00:00-05:00   -0.436123\n",
       "2022-01-31 11:00:00-05:00   -1.569011\n",
       "2022-02-02 11:00:00-05:00    0.941934\n",
       "2022-02-04 11:00:00-05:00   -0.065111\n",
       "2022-02-06 11:00:00-05:00   -1.291534\n",
       "2022-02-08 11:00:00-05:00   -0.958229\n",
       "2022-02-10 11:00:00-05:00    1.765372\n",
       "2022-02-12 11:00:00-05:00    0.463018\n",
       "2022-02-14 11:00:00-05:00    1.768407\n",
       "2022-02-16 11:00:00-05:00   -0.597773\n",
       "2022-02-18 11:00:00-05:00   -2.181737\n",
       "2022-02-20 11:00:00-05:00    1.234168\n",
       "2022-02-22 11:00:00-05:00    1.278901\n",
       "2022-02-24 11:00:00-05:00   -1.533259\n",
       "2022-02-26 11:00:00-05:00   -1.137584\n",
       "2022-02-28 11:00:00-05:00   -0.618538\n",
       "Freq: 2D, dtype: float64"
      ]
     },
     "execution_count": 9,
     "metadata": {},
     "output_type": "execute_result"
    }
   ],
   "source": [
    "#se genera los valores de las fechas\n",
    "s=pd.Series(np.random.randn(len(indice)),index=indice)\n",
    "s"
   ]
  },
  {
   "cell_type": "code",
   "execution_count": 11,
   "metadata": {},
   "outputs": [
    {
     "data": {
      "text/plain": [
       "<DstTzInfo 'America/Cancun' LMT-1 day, 18:13:00 STD>"
      ]
     },
     "execution_count": 11,
     "metadata": {},
     "output_type": "execute_result"
    }
   ],
   "source": [
    "#comprobamos que ya tenga algun valor tz\n",
    "s.index.tz"
   ]
  },
  {
   "cell_type": "code",
   "execution_count": 13,
   "metadata": {},
   "outputs": [
    {
     "data": {
      "text/plain": [
       "2022-01-01 16:00:00+00:00    0.092347\n",
       "2022-01-03 16:00:00+00:00    1.050000\n",
       "2022-01-05 16:00:00+00:00   -0.888262\n",
       "2022-01-07 16:00:00+00:00    0.029309\n",
       "2022-01-09 16:00:00+00:00    0.015275\n",
       "2022-01-11 16:00:00+00:00   -0.456607\n",
       "2022-01-13 16:00:00+00:00   -0.186722\n",
       "2022-01-15 16:00:00+00:00   -1.577506\n",
       "2022-01-17 16:00:00+00:00    1.807526\n",
       "2022-01-19 16:00:00+00:00    0.688111\n",
       "2022-01-21 16:00:00+00:00   -0.242223\n",
       "2022-01-23 16:00:00+00:00    0.406562\n",
       "2022-01-25 16:00:00+00:00    0.271332\n",
       "2022-01-27 16:00:00+00:00   -0.563948\n",
       "2022-01-29 16:00:00+00:00   -0.436123\n",
       "2022-01-31 16:00:00+00:00   -1.569011\n",
       "2022-02-02 16:00:00+00:00    0.941934\n",
       "2022-02-04 16:00:00+00:00   -0.065111\n",
       "2022-02-06 16:00:00+00:00   -1.291534\n",
       "2022-02-08 16:00:00+00:00   -0.958229\n",
       "2022-02-10 16:00:00+00:00    1.765372\n",
       "2022-02-12 16:00:00+00:00    0.463018\n",
       "2022-02-14 16:00:00+00:00    1.768407\n",
       "2022-02-16 16:00:00+00:00   -0.597773\n",
       "2022-02-18 16:00:00+00:00   -2.181737\n",
       "2022-02-20 16:00:00+00:00    1.234168\n",
       "2022-02-22 16:00:00+00:00    1.278901\n",
       "2022-02-24 16:00:00+00:00   -1.533259\n",
       "2022-02-26 16:00:00+00:00   -1.137584\n",
       "2022-02-28 16:00:00+00:00   -0.618538\n",
       "Freq: 2D, dtype: float64"
      ]
     },
     "execution_count": 13,
     "metadata": {},
     "output_type": "execute_result"
    }
   ],
   "source": [
    "#transforma la zona horaria\n",
    "s.tz_convert('UTC')"
   ]
  },
  {
   "cell_type": "code",
   "execution_count": null,
   "metadata": {},
   "outputs": [],
   "source": [
    "#otro ejemplo\n",
    "s.tz_convert('Europa/Berlin')"
   ]
  },
  {
   "cell_type": "code",
   "execution_count": null,
   "metadata": {
    "vscode": {
     "languageId": "powershell"
    }
   },
   "outputs": [],
   "source": [
    "#si nos llega a fallar la zona horaria se puede cambiar con \n",
    "pip install tzdata"
   ]
  },
  {
   "cell_type": "markdown",
   "metadata": {},
   "source": [
    "GENERAR GRAFICAS DE UNA SERIE DE TIEMPO EN PYTHON"
   ]
  },
  {
   "cell_type": "code",
   "execution_count": 15,
   "metadata": {
    "vscode": {
     "languageId": "powershell"
    }
   },
   "outputs": [
    {
     "data": {
      "text/plain": [
       "<AxesSubplot:>"
      ]
     },
     "execution_count": 15,
     "metadata": {},
     "output_type": "execute_result"
    },
    {
     "data": {
      "image/png": "[encoded data removed]",
      "text/plain": [
       "<Figure size 432x288 with 1 Axes>"
      ]
     },
     "metadata": {
      "needs_background": "light"
     },
     "output_type": "display_data"
    }
   ],
   "source": [
    "#te muestra las fechas pero no todas\n",
    "s.plot()"
   ]
  },
  {
   "cell_type": "code",
   "execution_count": 18,
   "metadata": {
    "vscode": {
     "languageId": "powershell"
    }
   },
   "outputs": [
    {
     "data": {
      "text/plain": [
       "<AxesSubplot:>"
      ]
     },
     "execution_count": 18,
     "metadata": {},
     "output_type": "execute_result"
    },
    {
     "data": {
      "image/png": "[encoded data removed]",
      "text/plain": [
       "<Figure size 432x288 with 1 Axes>"
      ]
     },
     "metadata": {
      "needs_background": "light"
     },
     "output_type": "display_data"
    }
   ],
   "source": [
    "#este metodo te muestra todos los datos en total\n",
    "#resample funciona como si fuera un metodo de agrupacion\n",
    "#por eso debemos de poner el sum para que nos devuelva los datos en forma de lista\n",
    "#es como si lo agruparamos pero sin agrupar\n",
    "st=s.resample('D').sum()\n",
    "st.plot()"
   ]
  }
 ],
 "metadata": {
  "kernelspec": {
   "display_name": "Python 3.10.5 64-bit",
   "language": "python",
   "name": "python3"
  },
  "language_info": {
   "codemirror_mode": {
    "name": "ipython",
    "version": 3
   },
   "file_extension": ".py",
   "mimetype": "text/x-python",
   "name": "python",
   "nbconvert_exporter": "python",
   "pygments_lexer": "ipython3",
   "version": "3.10.5"
  },
  "orig_nbformat": 4,
  "vscode": {
   "interpreter": {
    "hash": "dd9f87a29d2aa6978dd0bf5504b490cec73ae07d70e80488022efecbed51ab6b"
   }
  }
 },
 "nbformat": 4,
 "nbformat_minor": 2
}
