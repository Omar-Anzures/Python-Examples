{
 "cells": [
  {
   "cell_type": "markdown",
   "metadata": {},
   "source": [
    "Tema1.- Analisis descriptivo\n",
    "\n",
    "Tenemos que identificar que tipos de datos estamos manejando\n",
    "si son datos cuantitativos o cualitativos.\n",
    "\n",
    "cuantitativos.- son los datos continuos como la estatura de alguien que puede terminar en decimal.\n",
    "\n",
    "cualitativos son datos que solo pueden ser numeros enteros por ejemplo saber cuantas mascotas hay en cada cada de una determinada area."
   ]
  },
  {
   "cell_type": "code",
   "execution_count": null,
   "metadata": {},
   "outputs": [],
   "source": [
    "#se hace un carga del dataset que se va a ocuparS\n",
    "import pandas as pd \n",
    "\n",
    "data = pd.read_csv(\"C:/Users/ovsantiago/Desktop/py/datasets/animes.csv\")\n",
    "\n",
    "print(data.info())"
   ]
  },
  {
   "cell_type": "markdown",
   "metadata": {},
   "source": [
    "Medidas de tendencia central.\n",
    "\n",
    " ->Media (promedio)\n",
    " ->Moda (El dato que mas se repite)\n",
    " ->Mediana (El valor que se encuentra enmedio)"
   ]
  },
  {
   "cell_type": "code",
   "execution_count": null,
   "metadata": {},
   "outputs": [],
   "source": [
    "#Media\n",
    "data.popularity.mean()"
   ]
  },
  {
   "cell_type": "code",
   "execution_count": null,
   "metadata": {},
   "outputs": [],
   "source": [
    "#Moda\n",
    "data.popularity.mode()[0]"
   ]
  },
  {
   "cell_type": "code",
   "execution_count": null,
   "metadata": {},
   "outputs": [],
   "source": [
    "#Mediana\n",
    "data.popularity.median()"
   ]
  },
  {
   "cell_type": "markdown",
   "metadata": {},
   "source": [
    "Medidas de variabilidad\n",
    "\n",
    "Indica que tan concentrada o dispersa esta la informacion.\n",
    "\n",
    "Varianza : Representa la variabilidad de un conjunto respecto a su media. A nivel de poblacion(conjunto) y nivel de muestra."
   ]
  },
  {
   "cell_type": "code",
   "execution_count": null,
   "metadata": {},
   "outputs": [],
   "source": [
    "#---------------varianza---------------------\n",
    "\n",
    "#Varianza a nievel muestra\n",
    "salarios = pd.Series([2500,1800,2300,3000,2700])\n",
    "\n",
    "salarios.var()"
   ]
  },
  {
   "cell_type": "code",
   "execution_count": null,
   "metadata": {},
   "outputs": [],
   "source": [
    "#varianza a nivel poblacion o conjunto\n",
    "salarios.var(ddof = 0)"
   ]
  },
  {
   "cell_type": "markdown",
   "metadata": {},
   "source": [
    "Desviacion estandar: Es la raiz cuadrada de la varianza"
   ]
  },
  {
   "cell_type": "code",
   "execution_count": null,
   "metadata": {},
   "outputs": [],
   "source": [
    "#-------------Desviacion estandar---------------------\n",
    "#Es usada para trabajar con los datos que hay dentro de la serie o datos\n",
    "\n",
    "#varianza a nivel muestra\n",
    "salarios.std()"
   ]
  },
  {
   "cell_type": "code",
   "execution_count": null,
   "metadata": {},
   "outputs": [],
   "source": [
    "#varianza a nivel poblacion\n",
    "salarios.std(ddof=0)"
   ]
  },
  {
   "cell_type": "markdown",
   "metadata": {},
   "source": [
    "Rango : Es la diferencia entre minimo y maximo "
   ]
  },
  {
   "cell_type": "markdown",
   "metadata": {},
   "source": [
    "Curtosis : Es una medidad de forma.Indica la altura que tendra la curva de los datos\n",
    " --->Si los datos estan alejados de la media el resultado va hacer negativa por lo tanto la curtosis sera una curva aplanada o curtosis pequeña (linea roja)\n",
    " --->Si los datos estan concentrados a la media o cerca el resultado sera positivo por lo tanto la curva de formacion sera alargada o curtosis grande(linea azul)\n",
    " --->Cuando la curtosis es = 0 obtendremos la campana de gauss perdecta"
   ]
  },
  {
   "cell_type": "markdown",
   "metadata": {},
   "source": [
    "\n",
    "\n"
   ]
  },
  {
   "cell_type": "markdown",
   "metadata": {},
   "source": [
    "<img src= data:image/jpeg;base64,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>\n",
    "\n",
    "\n"
   ]
  },
  {
   "cell_type": "markdown",
   "metadata": {},
   "source": [
    "Sesgo:Indica que tan de lado o simetrica sera la curva que nos indica como se distribuye la informacion.\n",
    "\n",
    "---> Un sesgo positivo quiere decir que los datos se aglomeran hacia la derecha lo cual indica que los datos estan por encima de la media.\n",
    "--->Un sesgo negativo quiere decir que los datos se aglomeran a los valores menores de la media la izquierda.\n",
    "---> Un sesgo 0 quiere deicr que sus valores son simetricos quiere decir que la informacion se distribuye de forma igual de ambos lados."
   ]
  },
  {
   "cell_type": "markdown",
   "metadata": {},
   "source": [
    "<img src= http://1.bp.blogspot.com/_mA-bypZU_yA/ScfGYolZY3I/AAAAAAAAAA4/g4__2B4EJ4c/s280/image028.gif>"
   ]
  },
  {
   "cell_type": "code",
   "execution_count": null,
   "metadata": {},
   "outputs": [],
   "source": [
    "#Medidas de variabilidad python\n",
    "\n",
    "prueba = pd.Series([3,4,5,2,3,4,5,6,4,7])"
   ]
  },
  {
   "cell_type": "code",
   "execution_count": null,
   "metadata": {},
   "outputs": [],
   "source": [
    "#curtosis\n",
    "prueba.kurtosis()\n",
    "#nos indica que nuestra curtosis va hacer una curtosis plana o pequeña."
   ]
  },
  {
   "cell_type": "code",
   "execution_count": null,
   "metadata": {},
   "outputs": [],
   "source": [
    "#Sesgo\n",
    "#indica que va a ver simetria hacia la derecha.\n",
    "prueba.skew()"
   ]
  },
  {
   "cell_type": "markdown",
   "metadata": {},
   "source": [
    "------Gráficos para la distribución de datos numéricos.--------\n",
    "\n",
    "Diagrama de caja: Un diagrama de caja es un método estandarizado para representar gráficamente una serie de datos numéricos a través de sus cuartiles.\n",
    "\n",
    "<img src = https://slideplayer.es/slide/113140/1/images/3/Diagrama+de+cajas+M%C3%A1ximo+Percentil+75%25+Mediana+Percentil+50%25.jpg>"
   ]
  },
  {
   "cell_type": "code",
   "execution_count": null,
   "metadata": {},
   "outputs": [],
   "source": [
    "import pandas as pd\n",
    "import seaborn as sns"
   ]
  },
  {
   "cell_type": "code",
   "execution_count": null,
   "metadata": {},
   "outputs": [],
   "source": [
    "data = pd.read_csv(\"C:/Users/ovsantiago/Desktop/py/datasets/tips.csv\")\n",
    "data.head()\n"
   ]
  },
  {
   "cell_type": "code",
   "execution_count": null,
   "metadata": {},
   "outputs": [],
   "source": [
    "#Estilo de seaborn incluye 5 estilos disponibles: \"darkgrid\", \"whitegrid\", \"dark\", \"white\" y \"ticks\".\n",
    "# La función seaborn.set_style nos permite establecer uno como activo:\n",
    "sns.set_style(\"whitegrid\")"
   ]
  },
  {
   "cell_type": "code",
   "execution_count": null,
   "metadata": {},
   "outputs": [],
   "source": [
    "#funciona de manera eficiente al trazar valores categóricos de un conjunto de datos y también puede trabajar con listas únicas\n",
    "# o vectores de array.\n",
    "sns.boxplot(x='day',y='total_bill',data=data)"
   ]
  },
  {
   "cell_type": "markdown",
   "metadata": {},
   "source": [
    "Histograma: Muestra la distribucion de las frecuencias"
   ]
  },
  {
   "cell_type": "code",
   "execution_count": null,
   "metadata": {},
   "outputs": [],
   "source": [
    "#Para poder hacer el histograma eliminamos los nulos\n",
    "#Se hace esto porque la libreria seaborn no es capaz de \n",
    "#mostrar el diagrama si encuentra los valores nulos\n",
    "\n",
    "data = data.dropna(subset=['total_bill'])"
   ]
  },
  {
   "cell_type": "code",
   "execution_count": null,
   "metadata": {},
   "outputs": [],
   "source": [
    "sns.displot(data.total_bill,kde=True)\n",
    "#como podemos observar el histograma esta un poco\n",
    "#inclinado hacia la izquiera esto quiere decir que\n",
    "#poco mas de la mitad de estos conjuntos esta por debajo de la media"
   ]
  },
  {
   "cell_type": "markdown",
   "metadata": {},
   "source": [
    "Grafica de pastel: Muestra la proporcion de los datos categoricos de nuestro conjunto. \n",
    "\n",
    "1.-Obtener la informacion que vamos a representar es decir las variables categoricas "
   ]
  },
  {
   "cell_type": "code",
   "execution_count": null,
   "metadata": {},
   "outputs": [],
   "source": [
    "#Ejercicio\n",
    "#cuantos registros se tienen por dia\n",
    "conteo = data.day.value_counts()\n",
    "conteo"
   ]
  },
  {
   "cell_type": "code",
   "execution_count": null,
   "metadata": {},
   "outputs": [],
   "source": [
    "#lo convertimos dataframe para posteriormente hacer la grafica\n",
    "df = pd.DataFrame({\"Dias\":conteo})\n",
    "df"
   ]
  },
  {
   "cell_type": "code",
   "execution_count": null,
   "metadata": {},
   "outputs": [],
   "source": [
    "#El método pandas.DataFrame.plot.pie genera un gráfico circular:\n",
    "#como anteriormente ya habiamos definido el dataframe solo le pasamos la variable.\n",
    "\n",
    "df.plot.pie(y=\"Dias\",figsize=(10,10),autopct=\"%.2f%%\")"
   ]
  },
  {
   "cell_type": "markdown",
   "metadata": {},
   "source": [
    "-->Grafico de barras:Muestra la frecuencia de los datos"
   ]
  },
  {
   "cell_type": "code",
   "execution_count": null,
   "metadata": {},
   "outputs": [],
   "source": [
    "#Ejercicio:cuantas personas visitaron el restaurante\n",
    "sns.countplot(x=\"sex\",data=data)\n",
    "\n",
    "#Ejercicio:numeros de fumadores o no fumadores\n",
    "sns.countplot(x=\"smoker\",data=data)"
   ]
  }
 ],
 "metadata": {
  "kernelspec": {
   "display_name": "Python 3.10.5 64-bit",
   "language": "python",
   "name": "python3"
  },
  "language_info": {
   "codemirror_mode": {
    "name": "ipython",
    "version": 3
   },
   "file_extension": ".py",
   "mimetype": "text/x-python",
   "name": "python",
   "nbconvert_exporter": "python",
   "pygments_lexer": "ipython3",
   "version": "3.10.5"
  },
  "orig_nbformat": 4,
  "vscode": {
   "interpreter": {
    "hash": "dd9f87a29d2aa6978dd0bf5504b490cec73ae07d70e80488022efecbed51ab6b"
   }
  }
 },
 "nbformat": 4,
 "nbformat_minor": 2
}
